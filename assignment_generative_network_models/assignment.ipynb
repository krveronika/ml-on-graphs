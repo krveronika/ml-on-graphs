{
 "cells": [
  {
   "cell_type": "markdown",
   "metadata": {},
   "source": [
    "# Assignment — Generative Network Models"
   ]
  },
  {
   "cell_type": "code",
   "execution_count": null,
   "metadata": {},
   "outputs": [],
   "source": [
    "import matplotlib.pyplot as plt\n",
    "import numpy as np\n",
    "from zlib import adler32\n",
    "import requests\n",
    "import networkx as nx\n",
    "from scipy.stats import ks_2samp\n",
    "import random\n",
    "from sklearn.preprocessing import minmax_scale"
   ]
  },
  {
   "cell_type": "markdown",
   "metadata": {},
   "source": [
    "### Task 1. Erdos Renyi model (0.75 point)"
   ]
  },
  {
   "cell_type": "markdown",
   "metadata": {},
   "source": [
    "Implement Erdos Renyi model (random graph) — each pair of $n$ nodes are connected with some fixed probability $p$."
   ]
  },
  {
   "cell_type": "code",
   "execution_count": null,
   "metadata": {
    "deletable": false,
    "editable": false,
    "nbgrader": {
     "cell_type": "code",
     "checksum": "221af57362f518d78ec6b03ee0d4d47d",
     "grade": false,
     "grade_id": "cell-624a5ad3187ac59d",
     "locked": true,
     "schema_version": 3,
     "solution": false,
     "task": false
    }
   },
   "outputs": [],
   "source": [
    "'''Do not touch this cell'''\n",
    "def erdos_renyi_graph(n, p):\n",
    "    G = nx.Graph()\n",
    "    nodes = np.arange(n)\n",
    "    G.add_nodes_from(nodes)\n",
    "    G.add_edges_from(random_edges(nodes, p))\n",
    "    return G"
   ]
  },
  {
   "cell_type": "markdown",
   "metadata": {},
   "source": [
    "Write a function `random_edges` with parameters: `nodes` — np.array of nodes, for example [1, 2, 3, 4, ...] and `p` — probability of connection. The function returns np.array with tuples of the form [(1, 2), (2, 4), ...], where 1-2, 2-4 are edges that should be added in the graph.\n",
    "\n",
    "*Hint: To speed up the generation, look at ALG.1 in the article [Efficient generation of large random networks](http://vlado.fmf.uni-lj.si/pub/networks/doc/ms/rndgen.pdf).*"
   ]
  },
  {
   "cell_type": "code",
   "execution_count": null,
   "metadata": {
    "deletable": false,
    "nbgrader": {
     "cell_type": "code",
     "checksum": "9ee3e3f6dd135a2bcf40435707960ab3",
     "grade": false,
     "grade_id": "cell-3f9c05225ce97048",
     "locked": false,
     "schema_version": 3,
     "solution": true,
     "task": false
    }
   },
   "outputs": [],
   "source": [
    "import itertools as it\n",
    "\n",
    "\n",
    "def random_edges(nodes, p):\n",
    "    new_edges = []\n",
    "    for edge in list(it.combinations(nodes, 2)):\n",
    "        if random.random() < p:\n",
    "            new_edges.append(edge)\n",
    "    return np.array(new_edges)"
   ]
  },
  {
   "cell_type": "code",
   "execution_count": null,
   "metadata": {
    "deletable": false,
    "editable": false,
    "nbgrader": {
     "cell_type": "code",
     "checksum": "a23c1e2ce7b8d1332c3706b6c246b412",
     "grade": true,
     "grade_id": "cell-f9e401d2fda317c2",
     "locked": true,
     "points": 0.75,
     "schema_version": 3,
     "solution": false,
     "task": false
    }
   },
   "outputs": [],
   "source": [
    "'''Check the Erdos-Renyi random graph generation'''\n",
    "assert len(erdos_renyi_graph(100, 0.1).edges) > 0\n",
    "n = 100\n",
    "p = 0.4\n",
    "n_edges = n * (n-1) / 2\n",
    "q = 1 - p\n",
    "sigma = np.sqrt((p * q) / n_edges)\n",
    "assert  p - 3*sigma < random_edges(np.arange(n), p).shape[0] / n_edges < p + 3*sigma\n",
    "n = 1000\n",
    "p = 0.01\n",
    "n_edges = n * (n-1) / 2\n",
    "q = 1 - p\n",
    "sigma = np.sqrt((p * q) / n_edges)\n",
    "assert  p - 3*sigma < random_edges(np.arange(n), p).shape[0] / n_edges < p + 3*sigma\n",
    "n = 300\n",
    "p = 0.9\n",
    "n_edges = n * (n-1) / 2\n",
    "q = 1 - p\n",
    "sigma = np.sqrt((p * q) / n_edges)\n",
    "assert  p - 3*sigma < random_edges(np.arange(n), p).shape[0] / n_edges < p + 3*sigma"
   ]
  },
  {
   "cell_type": "markdown",
   "metadata": {},
   "source": [
    "Let us draw a couple of generated graphs"
   ]
  },
  {
   "cell_type": "code",
   "execution_count": null,
   "metadata": {},
   "outputs": [],
   "source": [
    "n = 100\n",
    "cases = [('Subcritical regime: $p \\cdot n < 1$', n, 0.5/n), \n",
    "         ('Critical point: $p \\cdot n = 1$', n, 1/n), \n",
    "         ('Supercritacal regime: $p \\cdot n > 1$', n, 2/n), \n",
    "         ('Connected regime: $p \\cdot n > \\log(N)$', n, 6.5/n)]\n",
    "plt.figure(figsize=(12, 6 * 4))\n",
    "i = 1\n",
    "for regime, n, p in cases:\n",
    "    plt.subplot(4, 2, i)\n",
    "    G = erdos_renyi_graph(n, p)\n",
    "    nx.draw(\n",
    "        G, \n",
    "        with_labels=False, \n",
    "        node_size=20, \n",
    "        width=0.5, \n",
    "        node_color='tab:orange')\n",
    "    plt.title(regime)\n",
    "    i += 1\n",
    "    plt.subplot(4, 2, i)\n",
    "    degree_seq = [degree for (node, degree) in G.degree]\n",
    "    bins, freq = np.unique(degree_seq, return_counts=True)\n",
    "    plt.bar(bins, freq)\n",
    "    plt.xlim((-1, 14))\n",
    "    plt.title('Degree distribution')\n",
    "    i += 1"
   ]
  },
  {
   "cell_type": "markdown",
   "metadata": {},
   "source": [
    "### Task 2. Degree distribution of random vs real networks (0.75 point)"
   ]
  },
  {
   "cell_type": "code",
   "execution_count": null,
   "metadata": {
    "deletable": false,
    "editable": false,
    "nbgrader": {
     "cell_type": "code",
     "checksum": "91725f63a49c41e4ae640407f7c035dd",
     "grade": false,
     "grade_id": "cell-3c107ca98c89d8a7",
     "locked": true,
     "schema_version": 3,
     "solution": false,
     "task": false
    }
   },
   "outputs": [],
   "source": [
    "url = 'https://raw.githubusercontent.com/netspractice/ml-on-graphs/main/datasets/wiki_vote.txt'\n",
    "open('wiki_vote.txt', 'wb').write(requests.get(url).content)\n",
    "\n",
    "url = 'https://raw.githubusercontent.com/netspractice/ml-on-graphs/main/datasets/facebook_combined.txt'\n",
    "open('facebook_combined.txt', 'wb').write(requests.get(url).content)\n",
    "\n",
    "url = 'https://raw.githubusercontent.com/netspractice/ml-on-graphs/main/datasets/collaboration_network_of_arxiv_general_relativity_category.txt'\n",
    "open('collaboration_network_of_arxiv_general_relativity_category.txt', 'wb').write(requests.get(url).content);\n"
   ]
  },
  {
   "cell_type": "markdown",
   "metadata": {},
   "source": [
    "Let us compare degree distributions of real and random networks and decide whether they are close or not.\n",
    "\n",
    "Write a function `random_from_real` that takes a graph and returns a random network that has the same average node degree and the same number of nodes as a given network. "
   ]
  },
  {
   "cell_type": "code",
   "execution_count": null,
   "metadata": {
    "deletable": false,
    "nbgrader": {
     "cell_type": "code",
     "checksum": "44cf4dd7d679bbd7eb4ffb886e2f852c",
     "grade": false,
     "grade_id": "cell-64523f00025258d2",
     "locked": false,
     "schema_version": 3,
     "solution": true,
     "task": false
    }
   },
   "outputs": [],
   "source": [
    "def random_from_real(graph):\n",
    "    degree_seq = np.array([degree for (node, degree) in graph.degree])\n",
    "    avg_degree = np.mean(degree_seq)\n",
    "    p = avg_degree / len(graph)\n",
    "    return nx.erdos_renyi_graph(len(graph), p)"
   ]
  },
  {
   "cell_type": "code",
   "execution_count": null,
   "metadata": {
    "deletable": false,
    "editable": false,
    "nbgrader": {
     "cell_type": "code",
     "checksum": "1be5a4c889d93f815c6e88e4ffe3bb5b",
     "grade": true,
     "grade_id": "cell-070d7de32e4da644",
     "locked": true,
     "points": 0.75,
     "schema_version": 3,
     "solution": false,
     "task": false
    }
   },
   "outputs": [],
   "source": [
    "for file in ['wiki_vote.txt', \n",
    "             'collaboration_network_of_arxiv_general_relativity_category.txt', \n",
    "             'facebook_combined.txt']:\n",
    "    real_net = nx.read_edgelist(file)\n",
    "    random_net = random_from_real(real_net)\n",
    "    av_degree_random = np.mean(list(dict(random_net.degree).values()))\n",
    "    av_degree_real = np.mean(list(dict(real_net.degree).values()))\n",
    "    assert len(random_net) == len(real_net)\n",
    "    assert np.abs(av_degree_random - av_degree_real) < 1"
   ]
  },
  {
   "cell_type": "code",
   "execution_count": null,
   "metadata": {},
   "outputs": [],
   "source": [
    "cases = [['Wikipedia votes', 'wiki_vote.txt'], \n",
    "         ['Collaboration network', 'collaboration_network_of_arxiv_general_relativity_category.txt'], \n",
    "         ['Facebook', 'facebook_combined.txt']]\n",
    "for title, file in cases:\n",
    "    real_net = nx.read_edgelist(file)\n",
    "    random_net = random_from_real(real_net)\n",
    "    degree_hist = np.array(nx.degree_histogram(random_net))\n",
    "    idx = np.argwhere(degree_hist > 0)\n",
    "    plt.scatter(idx, degree_hist[idx], s=10, label='Random network')\n",
    "    degree_hist = np.array(nx.degree_histogram(real_net))\n",
    "    idx = np.argwhere(degree_hist > 0)\n",
    "    plt.scatter(idx, degree_hist[idx], s=10, label='Real network')\n",
    "    plt.legend()\n",
    "    plt.xlabel('k')\n",
    "    plt.ylabel('p(k)')\n",
    "    plt.title(title)\n",
    "    plt.xscale('log')\n",
    "    plt.yscale('log')\n",
    "    plt.show()"
   ]
  },
  {
   "cell_type": "markdown",
   "metadata": {},
   "source": [
    "### Task 3. Component sizes (1.4 points)"
   ]
  },
  {
   "cell_type": "markdown",
   "metadata": {},
   "source": [
    "Let us see how the size of small components (small — not giant) depends on the probability near the critical point: $p =1/n$.\n",
    "\n",
    "Write a function `small_component_size` with parameters `n` — number of nodes, `probabilities` — np.array of probabilities. The function generates a random graph for each probability and returns np.array of average sizes of small components.\n",
    "\n",
    "*Hint: to find nodes in components, use `nx.connected_components(graph)`*"
   ]
  },
  {
   "cell_type": "code",
   "execution_count": null,
   "metadata": {
    "deletable": false,
    "nbgrader": {
     "cell_type": "code",
     "checksum": "6d06f74cce7d6755b293976440fcf4b0",
     "grade": false,
     "grade_id": "cell-d440e4391a804d61",
     "locked": false,
     "schema_version": 3,
     "solution": true,
     "task": false
    }
   },
   "outputs": [],
   "source": [
    "def small_component_size(n, probabilities):\n",
    "    avg_size = []\n",
    "    for p in probabilities:\n",
    "        graph = nx.fast_gnp_random_graph(n, p)\n",
    "        connected_component = np.array([len(comp) for comp in nx.connected_components(graph)])\n",
    "        avg_size.append(connected_component[connected_component != connected_component.max()].mean())\n",
    "    return np.array(avg_size)"
   ]
  },
  {
   "cell_type": "code",
   "execution_count": null,
   "metadata": {
    "deletable": false,
    "editable": false,
    "nbgrader": {
     "cell_type": "code",
     "checksum": "076db04b85aea8371bd43e49e8bf7b6b",
     "grade": true,
     "grade_id": "cell-5d63591ccb8c84e5",
     "locked": true,
     "points": 0.7,
     "schema_version": 3,
     "solution": false,
     "task": false
    }
   },
   "outputs": [],
   "source": [
    "n = 1000\n",
    "p_space = np.linspace(0.01/n, 2.5/n, 50)\n",
    "sizes = []\n",
    "for _ in range(5):\n",
    "    size = small_component_size(n, p_space)\n",
    "    assert size.shape == (50,)\n",
    "    sizes.append(size)\n",
    "\n",
    "av_sizes = np.mean(sizes, axis=0)\n",
    "assert av_sizes[0] < av_sizes[np.argmin(np.abs(p_space*n - 1))]\n",
    "assert av_sizes[49] < av_sizes[np.argmin(np.abs(p_space*n - 1))]"
   ]
  },
  {
   "cell_type": "code",
   "execution_count": null,
   "metadata": {},
   "outputs": [],
   "source": [
    "for i in range(5):\n",
    "    plt.plot(p_space*n, sizes[i], c='tab:blue', alpha=0.5)\n",
    "plt.plot([1, 1], [1, 2.6], 'k--', label='Critical point')\n",
    "plt.xlabel('<k>')\n",
    "plt.ylabel('Average size of small components')\n",
    "plt.legend()\n",
    "plt.grid()\n",
    "plt.show()"
   ]
  },
  {
   "cell_type": "markdown",
   "metadata": {},
   "source": [
    "Also let us see how the size of a giant component depends on the probability near the critical point.\n",
    "\n",
    "Write a function `giant_component_size` with parameters `n` — number of nodes, `probabilities` — np.array of probabilities. The function generates a random graph for each probability and returns np.array of sizes of a giant component.\n",
    "\n",
    "*Hint: to find nodes in a ginat component, use `max(nx.connected_components(graph), key=len)`*"
   ]
  },
  {
   "cell_type": "code",
   "execution_count": null,
   "metadata": {
    "deletable": false,
    "nbgrader": {
     "cell_type": "code",
     "checksum": "134df9d4a0cdf2d975cdec8701e85d52",
     "grade": false,
     "grade_id": "cell-b0bd8dff83f29330",
     "locked": false,
     "schema_version": 3,
     "solution": true,
     "task": false
    }
   },
   "outputs": [],
   "source": [
    "def giant_component_size(n, probabilities):\n",
    "    avg_size = []\n",
    "    for p in probabilities:\n",
    "        graph = nx.fast_gnp_random_graph(n, p)\n",
    "        avg_size.append(len(max(nx.connected_components(graph), key=len)))\n",
    "    return np.array(avg_size)"
   ]
  },
  {
   "cell_type": "code",
   "execution_count": null,
   "metadata": {
    "deletable": false,
    "editable": false,
    "nbgrader": {
     "cell_type": "code",
     "checksum": "4c81d068001673c10202de6065992245",
     "grade": true,
     "grade_id": "cell-34e64cb7250e3dcc",
     "locked": true,
     "points": 0.7,
     "schema_version": 3,
     "solution": false,
     "task": false
    }
   },
   "outputs": [],
   "source": [
    "n = 1000\n",
    "p_space = np.linspace(0.01/n, 2.5/n, 50)\n",
    "sizes = []\n",
    "for _ in range(5):\n",
    "    size = giant_component_size(n, p_space)\n",
    "    assert size.shape == (50,)\n",
    "    sizes.append(size)\n",
    "\n",
    "av_sizes = np.mean(sizes, axis=0)\n",
    "assert av_sizes[0] < 20\n",
    "assert 20 < av_sizes[np.argmin(np.abs(p_space*n - 1))] < 150\n",
    "assert 700 < av_sizes[np.argmin(np.abs(p_space*n - 2))] < 900"
   ]
  },
  {
   "cell_type": "code",
   "execution_count": null,
   "metadata": {},
   "outputs": [],
   "source": [
    "for i in range(5):\n",
    "    plt.plot(p_space*n, sizes[i], c='tab:blue', alpha=0.5)\n",
    "plt.plot([1, 1], [0, 1000], 'k--', label='Critical point')\n",
    "plt.xlabel('<k>')\n",
    "plt.ylabel('Size of a giant component')\n",
    "plt.legend()\n",
    "plt.grid()\n",
    "plt.show()"
   ]
  },
  {
   "cell_type": "markdown",
   "metadata": {},
   "source": [
    "### Task 4. Clustering coefficients of random vs real networks (1.4 points)"
   ]
  },
  {
   "cell_type": "markdown",
   "metadata": {},
   "source": [
    "Clustering coefficient of a node $C_i$ contains information about relationship between nearest neighbors.  $C_i = 0$ means that there is no links between neighbors and $C_i = 1$ means that there are all possible links between them. Clustering coefficient of an Erdos-Renyi random graph is equal to the probability $p$ and does not dependent of a node and its degree:\n",
    "\n",
    "$$C_i = \\langle C \\rangle = \\frac{\\langle k \\rangle}{n} = p $$\n",
    "\n",
    "Let us check it on generated data.\n",
    "\n",
    "Write a function `node_degree_clustering` with parameters `n, p` — number of nodes and probability. The function generates Erdos-Renyi random graph and returns a tuple with two np.arrays: degrees and clustering coefficients. Ordering of elements should coincide: the first degree and first clustering coefficient are related to the first node and so on.\n",
    "\n",
    "*Hint: to calculate clustering coefficients, use `nx.clustering(graph)`*"
   ]
  },
  {
   "cell_type": "code",
   "execution_count": null,
   "metadata": {
    "deletable": false,
    "nbgrader": {
     "cell_type": "code",
     "checksum": "f0e02640c0dac8f22a20c9acfd93b165",
     "grade": false,
     "grade_id": "cell-abd8d56fe7ac98fe",
     "locked": false,
     "schema_version": 3,
     "solution": true,
     "task": false
    }
   },
   "outputs": [],
   "source": [
    "def node_degree_clustering(n, p):\n",
    "    graph = nx.erdos_renyi_graph(n, p)\n",
    "    degree_seq = np.array([degree for (node, degree) in graph.degree])\n",
    "    clust_seq = np.array(list(nx.clustering(graph).values()))\n",
    "    return degree_seq, clust_seq"
   ]
  },
  {
   "cell_type": "code",
   "execution_count": null,
   "metadata": {
    "deletable": false,
    "editable": false,
    "nbgrader": {
     "cell_type": "code",
     "checksum": "7d4def559c1599d2d5c42532101c6f56",
     "grade": true,
     "grade_id": "cell-361879b779afaecb",
     "locked": true,
     "points": 1.4,
     "schema_version": 3,
     "solution": false,
     "task": false
    }
   },
   "outputs": [],
   "source": [
    "p = 0.9\n",
    "n = 100\n",
    "degree, clustering = node_degree_clustering(n, p)\n",
    "assert degree.shape == clustering.shape\n",
    "assert clustering.mean() - 3*clustering.std() < p < clustering.mean() + 3*clustering.std()\n",
    "assert degree.mean() - 3*degree.std() < p * n < degree.mean() + 3*degree.std()\n",
    "p = 0.1\n",
    "n = 1000\n",
    "degree, clustering = node_degree_clustering(n, p)\n",
    "assert degree.shape == clustering.shape\n",
    "assert clustering.mean() - 3*clustering.std() < p < clustering.mean() + 3*clustering.std()\n",
    "assert degree.mean() - 3*degree.std() < p * n < degree.mean() + 3*degree.std()\n",
    "p = 0.01\n",
    "n = 3000\n",
    "degree, clustering = node_degree_clustering(n, p)\n",
    "assert degree.shape == clustering.shape\n",
    "assert clustering.mean() - 3*clustering.std() < p < clustering.mean() + 3*clustering.std()\n",
    "assert degree.mean() - 3*degree.std() < p * n < degree.mean() + 3*degree.std()"
   ]
  },
  {
   "cell_type": "markdown",
   "metadata": {},
   "source": [
    "Let us draw the dependency between node degree and clustering coefficient"
   ]
  },
  {
   "cell_type": "code",
   "execution_count": null,
   "metadata": {},
   "outputs": [],
   "source": [
    "p = 0.1\n",
    "n = 1000\n",
    "degree, clustering = node_degree_clustering(n, p)\n",
    "plt.scatter(degree, clustering, s=15, linewidths=0.3)\n",
    "plt.plot([degree.min(), degree.max()], [p, p], 'k--', label='Probability')\n",
    "plt.xlabel('Node degree')\n",
    "plt.ylabel('Clustering coefficient')\n",
    "plt.legend()\n",
    "plt.grid()\n",
    "plt.show()"
   ]
  },
  {
   "cell_type": "markdown",
   "metadata": {},
   "source": [
    "Let us look at the dependency of a some real social network."
   ]
  },
  {
   "cell_type": "code",
   "execution_count": null,
   "metadata": {},
   "outputs": [],
   "source": [
    "degree = np.loadtxt(\n",
    "    'https://raw.githubusercontent.com/netspractice/ml-on-graphs/main/datasets/real_net_degree.txt'\n",
    ")\n",
    "clustering = np.loadtxt(\n",
    "    'https://raw.githubusercontent.com/netspractice/ml-on-graphs/main/datasets/real_net_clustering.txt'\n",
    ")\n",
    "plt.scatter(degree, clustering, s=15, linewidths=0.3)\n",
    "plt.xlabel('Node degree')\n",
    "plt.ylabel('Clustering coefficient')\n",
    "plt.grid()\n",
    "plt.show()"
   ]
  },
  {
   "cell_type": "markdown",
   "metadata": {},
   "source": [
    "We can see that the average clustering coefficient slightly decreases in high degrees."
   ]
  },
  {
   "cell_type": "markdown",
   "metadata": {},
   "source": [
    "### Task 5. Snobbish Networks (1.4 points)"
   ]
  },
  {
   "cell_type": "markdown",
   "metadata": {},
   "source": [
    "Consider a network of $N$ red and $N$ blue nodes. The probability that there is a link between nodes of identical color is $p$ and the probability that there is a link between nodes of different color is $q$. A network is snobbish if $p>q$, capturing a tendency to connect to nodes of the same color. For $q = 0$ the network has at least two components, containing nodes with the same color.\n",
    "\n",
    "Write a function `snobbish_network` that takes the number of red (or blue) nodes `n`, probability of link between nodes of the same color `p` and probability of link between nodes of different color `q`. The function returns a network with $2N$ nodes where every node has an attribute `color` that can be `blue` or `red`.\n",
    "\n",
    "*Hint: to set node attributes, use `nx.set_node_attributes`*"
   ]
  },
  {
   "cell_type": "code",
   "execution_count": null,
   "metadata": {
    "deletable": false,
    "nbgrader": {
     "cell_type": "code",
     "checksum": "38b4e66d9cc002fa315a7e684d06fb3f",
     "grade": false,
     "grade_id": "cell-4ff71218f2bbb5a1",
     "locked": false,
     "schema_version": 3,
     "solution": true,
     "task": false
    }
   },
   "outputs": [],
   "source": [
    "def snobbish_network(n, p, q):\n",
    "    G = nx.Graph()\n",
    "    nodes = np.arange(2*n)\n",
    "    G.add_nodes_from(nodes)\n",
    "    \n",
    "    nx.set_node_attributes(G,  dict(zip(nodes, ['red']*n + ['blue']*n)), \"color\")\n",
    "    new_edges = []\n",
    "    for edge in list(it.combinations(nodes, 2)):\n",
    "        if G.nodes[edge[0]][\"color\"] == G.nodes[edge[1]][\"color\"]:\n",
    "            if random.random() < p:\n",
    "                new_edges.append(edge)\n",
    "        else:\n",
    "            if random.random() < q:\n",
    "                new_edges.append(edge)\n",
    "    G.add_edges_from(np.array(new_edges))\n",
    "    return G"
   ]
  },
  {
   "cell_type": "code",
   "execution_count": null,
   "metadata": {
    "deletable": false,
    "editable": false,
    "nbgrader": {
     "cell_type": "code",
     "checksum": "8238a0664f8a47bcf28f0148b360ca55",
     "grade": true,
     "grade_id": "cell-cb967ab713afeaf1",
     "locked": true,
     "points": 1.4,
     "schema_version": 3,
     "solution": false,
     "task": false
    }
   },
   "outputs": [],
   "source": [
    "sn_net = snobbish_network(100, 0.1, 0.01)\n",
    "assert sn_net.number_of_nodes() == 200\n",
    "assert set(nx.get_node_attributes(sn_net, 'color').values()) == {'blue', 'red'}\n",
    "assert np.sum(np.array(list(nx.get_node_attributes(sn_net, 'color').values())) == 'red') == 100\n",
    "assert 0.76 < nx.attribute_assortativity_coefficient(sn_net, 'color') < 0.88\n",
    "sn_net = snobbish_network(200, 0.1, 0.05)\n",
    "assert 0.25 < nx.attribute_assortativity_coefficient(sn_net, 'color') < 0.4"
   ]
  },
  {
   "cell_type": "code",
   "execution_count": null,
   "metadata": {},
   "outputs": [],
   "source": [
    "sn_net = snobbish_network(100, 0.1, 0.01)\n",
    "nx.draw(sn_net, \n",
    "        node_color=nx.get_node_attributes(sn_net, 'color').values(), \n",
    "        node_size=100)"
   ]
  },
  {
   "cell_type": "markdown",
   "metadata": {},
   "source": [
    "### Task 6. Watts-Strogatz model (0.75 point)"
   ]
  },
  {
   "cell_type": "markdown",
   "metadata": {},
   "source": [
    "Implement Watts-Strogatz model (small-world model) — rewire an edge with probability `p` in a ring lattice with `n` nodes and `k` degree."
   ]
  },
  {
   "cell_type": "code",
   "execution_count": null,
   "metadata": {
    "deletable": false,
    "editable": false,
    "nbgrader": {
     "cell_type": "code",
     "checksum": "6e1d433cbb5a7ebb96fd280ed6f38c37",
     "grade": false,
     "grade_id": "cell-277575fa688b487a",
     "locked": true,
     "schema_version": 3,
     "solution": false,
     "task": false
    }
   },
   "outputs": [],
   "source": [
    "'''Do not touch the cell'''\n",
    "def watts_strogatz_graph(n, k, p):\n",
    "    G = ring_lattice(n, k)\n",
    "    for node in G.nodes:\n",
    "        rewire(G, node, k, p)\n",
    "    return G"
   ]
  },
  {
   "cell_type": "markdown",
   "metadata": {},
   "source": [
    "Write a function `ring_lattice` that returns a regular ring lattice with `n` nodes (0, 1, 2, ..., n-1) and `k` node degree."
   ]
  },
  {
   "cell_type": "code",
   "execution_count": null,
   "metadata": {
    "deletable": false,
    "nbgrader": {
     "cell_type": "code",
     "checksum": "ed1178ec6aa0f9bf6a2afadec683ba75",
     "grade": false,
     "grade_id": "cell-4381f7ed50565a7b",
     "locked": false,
     "schema_version": 3,
     "solution": true,
     "task": false
    }
   },
   "outputs": [],
   "source": [
    "def adj_edges(nodes, half_k):\n",
    "    n = len(nodes)\n",
    "    for u in nodes:\n",
    "        for j in range(u + 1, u + half_k + 1):\n",
    "            v = nodes[j % n]\n",
    "            yield u, v\n",
    "\n",
    "def ring_lattice(n, k):\n",
    "    G = nx.Graph()\n",
    "    nodes = range(n)\n",
    "    G.add_nodes_from(nodes)\n",
    "    G.add_edges_from(adj_edges(nodes, k // 2))\n",
    "    return G"
   ]
  },
  {
   "cell_type": "code",
   "execution_count": null,
   "metadata": {
    "deletable": false,
    "editable": false,
    "nbgrader": {
     "cell_type": "code",
     "checksum": "6c973c4515cfc7f9d5c68919aa5e1d77",
     "grade": true,
     "grade_id": "cell-17badb1e5521a924",
     "locked": true,
     "points": 0.35,
     "schema_version": 3,
     "solution": false,
     "task": false
    }
   },
   "outputs": [],
   "source": [
    "assert nx.degree_histogram(ring_lattice(10, 2))[2] == 10\n",
    "assert nx.degree_histogram(ring_lattice(10, 3))[2] == 10\n",
    "assert nx.degree_histogram(ring_lattice(10, 4))[4] == 10"
   ]
  },
  {
   "cell_type": "markdown",
   "metadata": {},
   "source": [
    "Write a function `rewire` that takes in input a ring lattice `G`, a `node`, a model parameter `k` and probability `p`. For every right hand side neighbor $i$, the function rewires an edge (`node`, $i$) into a random edge (`node`, $j$) with probability `p` where $i \\neq j \\neq $ `node`.\n",
    "\n",
    "*Hints:*\n",
    "* *Why do we only rewire right hand side edges? We want to guarantee that only untouched in previous iterations edges will be rewound. Look at the picture — we could not move the red edges in previous iterations.\n",
    "![](https://raw.githubusercontent.com/netspractice/ml-on-graphs/main/assignment_generative_network_models/how_to_rewire.png)*\n",
    "* *To speed up the generation, do not filter nodes to random selection. If a selected node produces an existing edge or a loop, just skip it.*"
   ]
  },
  {
   "cell_type": "code",
   "execution_count": null,
   "metadata": {
    "deletable": false,
    "nbgrader": {
     "cell_type": "code",
     "checksum": "f24b2b836313ea9c7c49064894985286",
     "grade": false,
     "grade_id": "cell-2721abc93cd09afe",
     "locked": false,
     "schema_version": 3,
     "solution": true,
     "task": false
    }
   },
   "outputs": [],
   "source": [
    "def rewire(G, node, k, p):\n",
    "    for another_node in G.neighbors(node):\n",
    "        if G.has_edge(node, another_node) and (p > random.random()) and ((node < another_node) or (node + len(G[node])//2 - len(G.nodes)) > another_node):\n",
    "            G.remove_edge(node, another_node)\n",
    "            while True:\n",
    "                yet_another_node = random.choice(list(G.nodes))\n",
    "                if not G.has_edge(yet_another_node, node) and node != yet_another_node and another_node != yet_another_node:\n",
    "                    G.add_edge(node, yet_another_node)\n",
    "                    break  "
   ]
  },
  {
   "cell_type": "code",
   "execution_count": null,
   "metadata": {
    "deletable": false,
    "editable": false,
    "nbgrader": {
     "cell_type": "code",
     "checksum": "94f46f63d63706acc61c43820c29be20",
     "grade": true,
     "grade_id": "cell-df3c075240b9cfd0",
     "locked": true,
     "points": 0.4,
     "schema_version": 3,
     "solution": false,
     "task": false
    }
   },
   "outputs": [],
   "source": [
    "cases = [[50, 8, 0.1], \n",
    "         [1000, 10, 0.01],\n",
    "         [1000, 10, 0.5],\n",
    "         [1000, 10, 0.99]]\n",
    "for n, k, p in cases:\n",
    "    G = watts_strogatz_graph(n, k, p)\n",
    "    assert nx.number_of_nodes(G) == n\n",
    "    assert nx.number_of_edges(G) == int(k / 2 * n)\n",
    "    degree_seq = [degree for (node, degree) in G.degree]\n",
    "    nxG = nx.watts_strogatz_graph(n, k, p, 1)\n",
    "    nxdegree_seq = [degree for (node, degree) in nxG.degree]\n",
    "    assert ks_2samp(degree_seq, nxdegree_seq).pvalue > 0.05"
   ]
  },
  {
   "cell_type": "markdown",
   "metadata": {},
   "source": [
    "Let us draw a small-world graph in some steps of the algorithm"
   ]
  },
  {
   "cell_type": "code",
   "execution_count": null,
   "metadata": {},
   "outputs": [],
   "source": [
    "n, k, p = 52, 8, 0.2\n",
    "G = ring_lattice(n, k)\n",
    "plt.figure(figsize=(12, 6 * 4))\n",
    "i = 1\n",
    "for node in G.nodes:\n",
    "    if node in np.arange(0, n+1, int(n/3)):\n",
    "        plt.subplot(4, 2, i)\n",
    "        plt.title('Number of iterations: {}'.format(node))\n",
    "        nx.draw_circular(\n",
    "            G,\n",
    "            node_size=50, \n",
    "            width=0.5,\n",
    "            linewidths=0.5,\n",
    "            edgecolors='black',\n",
    "            node_color='tab:orange')\n",
    "        i += 1\n",
    "        plt.subplot(4, 2, i)\n",
    "        degree_seq = [degree for (node, degree) in G.degree]\n",
    "        bins, freq = np.unique(degree_seq, return_counts=True)\n",
    "        plt.bar(bins, freq)\n",
    "        plt.xlim((4, 13))\n",
    "        plt.title('Degree distribution')\n",
    "        i += 1\n",
    "    rewire(G, node, k, p)"
   ]
  },
  {
   "cell_type": "markdown",
   "metadata": {},
   "source": [
    "### Task 7. Average path length in Watts-Strogatz (1.4 point)"
   ]
  },
  {
   "cell_type": "markdown",
   "metadata": {},
   "source": [
    "Motivation of Small World model is to keep high clustering coefficients, achieving small path lengths. Let us check how clustering coefficients and path lengths change with respect to `p`.\n",
    "\n",
    "Write a function `smallworld_path_len_clustering` with Watts-Strogatz model parameters `n, k` and np.array of `probabilities` that returns a tuple of two np.arrays: average path lengths and average clustering coefficient for each probability. The length of the array is the length of `probabilities`.\n",
    "\n",
    "*Hints: \n",
    "* *to calculate the average shortest path length and average clustering coefficient, use `nx.average_shortest_path_length`, `nx.average_clustering`*\n",
    "* *to speed up the generation, use `nx.watts_strogatz_graph`*"
   ]
  },
  {
   "cell_type": "code",
   "execution_count": null,
   "metadata": {
    "deletable": false,
    "nbgrader": {
     "cell_type": "code",
     "checksum": "6ce84486eff729cd741971c55eecfc84",
     "grade": false,
     "grade_id": "cell-1d1acf7eed41ff23",
     "locked": false,
     "schema_version": 3,
     "solution": true,
     "task": false
    }
   },
   "outputs": [],
   "source": [
    "def smallworld_path_len_clustering(n, k, probabilities):\n",
    "    lengths = [] \n",
    "    clustering = []\n",
    "    for probability in probabilities:\n",
    "        G = nx.watts_strogatz_graph(n, k, probability)\n",
    "        lengths.append(nx.average_shortest_path_length(G))\n",
    "        clustering.append(nx.average_clustering(G))\n",
    "    return np.array(lengths), np.array(clustering)"
   ]
  },
  {
   "cell_type": "code",
   "execution_count": null,
   "metadata": {
    "deletable": false,
    "editable": false,
    "nbgrader": {
     "cell_type": "code",
     "checksum": "87929d4fed7510266c6b54993951cab9",
     "grade": true,
     "grade_id": "cell-5fc5d51b6ba7d0b1",
     "locked": true,
     "points": 1.4,
     "schema_version": 3,
     "solution": false,
     "task": false
    }
   },
   "outputs": [],
   "source": [
    "n, k, probabilities = 100, 10, np.linspace(0.001, 0.999, 25)\n",
    "lengths, clustering = smallworld_path_len_clustering(n, k, probabilities)\n",
    "step_space = np.log(np.arange(1, len(lengths) + 1))\n",
    "X = np.stack([step_space, np.ones(lengths.shape[0])], axis=1)\n",
    "assert lengths.shape[0] == 25\n",
    "assert 0.1 < -(np.linalg.pinv(X) @ np.log(lengths))[0] < 0.25\n",
    "assert 0.65 < clustering[0] < 0.68\n",
    "assert 0.07 < clustering[-1] < 0.11"
   ]
  },
  {
   "cell_type": "code",
   "execution_count": null,
   "metadata": {},
   "outputs": [],
   "source": [
    "n, k, probabilities = 100, 5, np.linspace(0.001, 0.999, 25)\n",
    "for _ in range(5):\n",
    "    lengths, clustering = smallworld_path_len_clustering(n, k, probabilities)\n",
    "    plt.plot(probabilities, minmax_scale(lengths, (0, 1)), \n",
    "             c='tab:blue', alpha=0.7)\n",
    "    plt.plot(probabilities, minmax_scale(clustering, (0, 1)), \n",
    "             c='tab:orange', alpha=0.7)\n",
    "plt.xscale('log')\n",
    "plt.legend(['Average path length', 'Average clustering coeff.'])\n",
    "plt.show()"
   ]
  },
  {
   "cell_type": "markdown",
   "metadata": {},
   "source": [
    "### Task 8. Barabasi-Albert model (0.75 point)"
   ]
  },
  {
   "cell_type": "markdown",
   "metadata": {},
   "source": [
    "Implement Barabasi-Albert model (preferential attachment model) – a growth process where each new node connects to `m` existing nodes. The higher node degree, the higher probability of the connection. The final number of nodes is `n`.\n",
    "\n",
    "You start from a star graph with `m + 1` nodes. In each step you create `m` edges between a new node and existing nodes. The probability of connection to the node $i$ is \n",
    "$$p(i) = \\frac{k_i}{\\sum k}$$\n",
    "\n",
    "Write a function `attach` that attaches a `node` to a graph `G` through `m` edges.\n",
    "\n",
    "*Hint: Create a list with repeated nodes from a list of edges. For example, $[(1, 2), (2, 3), (2, 4)] \\to [1, 2, 2, 3, 2, 4]$. Uniformly select nodes one-by-one. Apply `random.choice` instead of `np.random.choice` to speed up the generation.*"
   ]
  },
  {
   "cell_type": "code",
   "execution_count": null,
   "metadata": {
    "deletable": false,
    "editable": false,
    "nbgrader": {
     "cell_type": "code",
     "checksum": "10b8058456118ffa5785d3c5fa19cd05",
     "grade": false,
     "grade_id": "cell-32245b6697491e2d",
     "locked": true,
     "schema_version": 3,
     "solution": false,
     "task": false
    }
   },
   "outputs": [],
   "source": [
    "'''Do not touch the cell'''\n",
    "def barabasi_albert_graph(n, m, random_seed=1):\n",
    "    G = nx.star_graph(m)\n",
    "    for i in range(1, n - m):\n",
    "        attach(m + i, G, m)\n",
    "    return G"
   ]
  },
  {
   "cell_type": "code",
   "execution_count": null,
   "metadata": {
    "deletable": false,
    "nbgrader": {
     "cell_type": "code",
     "checksum": "cb1336d59862702d09519585009d141b",
     "grade": false,
     "grade_id": "cell-109afe3ff94f24eb",
     "locked": false,
     "schema_version": 3,
     "solution": true,
     "task": false
    }
   },
   "outputs": [],
   "source": [
    "def attach(node, G, m):\n",
    "    bst = []\n",
    "    for u, v in G.edges:\n",
    "        bst.append(u)\n",
    "        bst.append(v)\n",
    "    added_edges = 0\n",
    "    while added_edges < m:\n",
    "        v = random.choice(bst)\n",
    "        if not G.has_edge(node, v):\n",
    "            G.add_edge(node, v)\n",
    "            added_edges += 1"
   ]
  },
  {
   "cell_type": "code",
   "execution_count": null,
   "metadata": {
    "deletable": false,
    "editable": false,
    "nbgrader": {
     "cell_type": "code",
     "checksum": "9fa668161e972fd3a458e8fb708de9c6",
     "grade": true,
     "grade_id": "cell-f2b69c99736d4e56",
     "locked": true,
     "points": 0.75,
     "schema_version": 3,
     "solution": false,
     "task": false
    }
   },
   "outputs": [],
   "source": [
    "G = nx.star_graph(3)\n",
    "attach(4, G, 3)\n",
    "assert nx.number_of_edges(G) == 6\n",
    "\n",
    "cases = [[10, 3], \n",
    "         [1000, 3], \n",
    "         [1000, 20]]\n",
    "for n, m in cases:\n",
    "    G = barabasi_albert_graph(n, m)\n",
    "    degree_seq = [degree for (node, degree) in G.degree]\n",
    "    nxG = nx.barabasi_albert_graph(n, m)\n",
    "    nxdegree_seq = [degree for (node, degree) in nxG.degree]\n",
    "    assert ks_2samp(degree_seq, nxdegree_seq).pvalue > 0.05"
   ]
  },
  {
   "cell_type": "markdown",
   "metadata": {},
   "source": [
    "Let us see what the growth process looks like"
   ]
  },
  {
   "cell_type": "code",
   "execution_count": null,
   "metadata": {},
   "outputs": [],
   "source": [
    "n, m = 100, 6\n",
    "G = nx.star_graph(m)\n",
    "plt.figure(figsize=(12, 6 * 5))\n",
    "j = 1\n",
    "for i in range(1, n - m):\n",
    "    if i in [1, 2, 3, 30, n-m-1]:\n",
    "        plt.subplot(5, 2, j)\n",
    "        j += 1\n",
    "        sizes = np.array(list(nx.degree_centrality(G).values()))\n",
    "        sizes = sizes / max(sizes) * 200\n",
    "        if i <= 3:\n",
    "            pos = nx.layout.shell_layout(G)\n",
    "        else:\n",
    "            pos = nx.layout.spring_layout(G)\n",
    "        nx.draw(\n",
    "            G,\n",
    "            pos=pos,\n",
    "            with_labels=False, \n",
    "            node_size=sizes, \n",
    "            width=0.5,\n",
    "            linewidths=0.5,\n",
    "            edgecolors='black',\n",
    "            node_color='tab:orange')\n",
    "        plt.title('Step: {}'.format(i))\n",
    "        degree_seq = [degree for (node, degree) in G.degree]\n",
    "        bins, freq = np.unique(degree_seq, return_counts=True)\n",
    "        plt.subplot(5, 2, j)\n",
    "        j += 1\n",
    "        plt.bar(bins, freq)\n",
    "        plt.title('Degree distribution')\n",
    "    attach(m + i, G, m)"
   ]
  },
  {
   "cell_type": "markdown",
   "metadata": {},
   "source": [
    "### Task 9. Degree dynamics in Barabasi-Albert model (1.4 points)"
   ]
  },
  {
   "cell_type": "markdown",
   "metadata": {},
   "source": [
    "Measure the degree dynamics in Barabasi-Albert model of one of the initial nodes and of the nodes added to the network at intermediate time moments (steps of the algorithm).\n",
    "\n",
    "Write a function `generate_degree_dynamics` that takes np.array with considered nodes, generates Barabasi-Albert graph ($n=3000$, $m=6$) and returns a np.array of the shape `(29, len(nodes))` — degrees of these nodes at time moments 100, 200, 300, ..., 3000. If the node does not exist yet, pass `np.nan` value.\n",
    "\n",
    "*Hint: use the `barabasi_albert_graph` function as a template*"
   ]
  },
  {
   "cell_type": "code",
   "execution_count": null,
   "metadata": {
    "deletable": false,
    "nbgrader": {
     "cell_type": "code",
     "checksum": "b0448e4f37cc60deeda5fd64898886f6",
     "grade": false,
     "grade_id": "cell-70ac8ba75a75832f",
     "locked": false,
     "schema_version": 3,
     "solution": true,
     "task": false
    }
   },
   "outputs": [],
   "source": [
    "def generate_degree_dynamics(cons_nodes):\n",
    "    n = 3000\n",
    "    m = 6\n",
    "    lspace = np.linspace(100, 3000, 29, False)\n",
    "    result = np.ones((29, len(cons_nodes)))\n",
    "    G = nx.star_graph(m)\n",
    "    for i in range(1, n - m):\n",
    "        if i in lspace:\n",
    "            indx = np.where(i == lspace)[0][0]\n",
    "            for j, con in enumerate(cons_nodes):\n",
    "                try:\n",
    "                    result[indx][j] = G.degree[con]\n",
    "                except:\n",
    "                    result[indx][j] = np.nan\n",
    "        attach(m + i, G, m)\n",
    "    return result"
   ]
  },
  {
   "cell_type": "code",
   "execution_count": null,
   "metadata": {},
   "outputs": [],
   "source": [
    "degree_dynamics = generate_degree_dynamics([0, 100, 700, 2000])\n",
    "assert degree_dynamics.shape == (29, 4)\n",
    "assert np.all(np.isnan(degree_dynamics[0]) == [False, False,  True,  True])\n",
    "assert np.all(np.isnan(degree_dynamics[9]) == [False, False,  False,  True])\n",
    "assert degree_dynamics[0, 0] < degree_dynamics[-1, 0]\n",
    "assert degree_dynamics[0, 1] < degree_dynamics[-1, 1]\n",
    "assert degree_dynamics[-1, 0] > degree_dynamics[-1, 3]"
   ]
  },
  {
   "cell_type": "code",
   "execution_count": null,
   "metadata": {
    "deletable": false,
    "editable": false,
    "nbgrader": {
     "cell_type": "code",
     "checksum": "b46bea5e23c091acef3dd74d39a284d2",
     "grade": true,
     "grade_id": "cell-0ca66616f716ad7b",
     "locked": true,
     "points": 1.4,
     "schema_version": 3,
     "solution": false,
     "task": false
    }
   },
   "outputs": [],
   "source": [
    "degree_dynamics = generate_degree_dynamics([0, 100, 700, 1000])\n",
    "plt.figure(figsize=(8, 5))\n",
    "time_space = np.tile(np.arange(100, 3000, 100), (4, 1)).T\n",
    "plt.plot(time_space, degree_dynamics)\n",
    "plt.legend(['node 0', 'node 100', 'node 700', 'node 1000'])\n",
    "plt.title('Degree dynamics')\n",
    "plt.xscale('log')\n",
    "plt.yscale('log')\n",
    "plt.show()"
   ]
  },
  {
   "cell_type": "code",
   "execution_count": null,
   "metadata": {},
   "outputs": [],
   "source": []
  }
 ],
 "metadata": {
  "kernelspec": {
   "display_name": "Python 3",
   "language": "python",
   "name": "python3"
  },
  "language_info": {
   "codemirror_mode": {
    "name": "ipython",
    "version": 3
   },
   "file_extension": ".py",
   "mimetype": "text/x-python",
   "name": "python",
   "nbconvert_exporter": "python",
   "pygments_lexer": "ipython3",
   "version": "3.7.6"
  },
  "toc": {
   "base_numbering": 1,
   "nav_menu": {},
   "number_sections": true,
   "sideBar": true,
   "skip_h1_title": false,
   "title_cell": "Table of Contents",
   "title_sidebar": "Contents",
   "toc_cell": false,
   "toc_position": {},
   "toc_section_display": true,
   "toc_window_display": false
  }
 },
 "nbformat": 4,
 "nbformat_minor": 4
}
